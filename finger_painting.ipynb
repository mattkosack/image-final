{
 "cells": [
  {
   "cell_type": "markdown",
   "metadata": {},
   "source": [
    "# Finger Painting\n",
    "\n",
    "Matthew Kosack and Mark Morykan\n"
   ]
  },
  {
   "cell_type": "code",
   "execution_count": 1,
   "metadata": {},
   "outputs": [],
   "source": [
    "import numpy as np\n",
    "import matplotlib.pylab as plt\n",
    "import ipywidgets as widgets\n",
    "import cv2\n",
    "\n",
    "from video import run_video, run_video_2"
   ]
  },
  {
   "cell_type": "code",
   "execution_count": 3,
   "metadata": {},
   "outputs": [],
   "source": [
    "# These are the numbers for our green background and hands.\n",
    "# Adjust as necessary\n",
    "lower1 = np.array([0, 60, 48], np.uint8)\n",
    "upper1 = np.array([60, 255, 255], np.uint8)\n",
    "\n",
    "lower2 = np.array([135, 60, 100], np.uint8)\n",
    "upper2 = np.array([179, 255, 255], np.uint8)"
   ]
  },
  {
   "cell_type": "code",
   "execution_count": 4,
   "metadata": {},
   "outputs": [],
   "source": [
    "def equalizeHistogram(im, clahe=None):\n",
    "    \"\"\"\n",
    "    This applies histogram qualization to the luminance of the given color image (which must be\n",
    "    grayscale or RGB). The luminance is essentially the grayscale of the image, but this applies\n",
    "    it to that and then adjusts the color image to match that luminance.\n",
    "\n",
    "    If this is provided with a CLAHE object, it is used to perform the CLAHE instead of global\n",
    "    histogram equalization.\n",
    "    \"\"\"\n",
    "    if im.ndim == 3 and im.shape[2] >= 3:\n",
    "        ycrcb = cv2.cvtColor(im, cv2.COLOR_RGB2YCrCb)   # or color.rgb2ycbcr(im)\n",
    "        if clahe is not None:\n",
    "            ycrcb[:, :, 0] = clahe.apply(ycrcb[:, :, 0])\n",
    "        else:\n",
    "            ycrcb[:, :, 0] = cv2.equalizeHist(ycrcb[:, :, 0])  # or exposure.equalize_hist(im)\n",
    "        im = cv2.cvtColor(ycrcb, cv2.COLOR_YCrCb2RGB)   # or color.ycbcr2rgb(im)\n",
    "    else:  # assume grayscale\n",
    "        im = cv2.equalizeHist(im) if clahe is None else clahe.apply(im)\n",
    "    return im"
   ]
  },
  {
   "cell_type": "code",
   "execution_count": 5,
   "metadata": {},
   "outputs": [],
   "source": [
    "clahe = cv2.createCLAHE(clipLimit=2.0, tileGridSize=(21,21))\n",
    "\n",
    "def image_in_range(im, colorized=True):\n",
    "    \"\"\"\n",
    "    Returns a binary image where Trues (actually 255) in the result are when the HSV version is in the\n",
    "    range of the global variables lower and upper.\n",
    "\n",
    "    If colorized is True then the returned image has the pixels set to the color of the original image\n",
    "    wherever the binary image is True.\n",
    "    \"\"\"\n",
    "    he = equalizeHistogram(im, clahe)\n",
    "    hsvim = cv2.cvtColor(he, cv2.COLOR_RGB2HSV)    # or color.rgb2hsv(im)\n",
    "    mask = (cv2.inRange(hsvim, lower1, upper1) > 0) | (cv2.inRange(hsvim, lower2, upper2) > 0)  # or ((lower1 <= im).all(2) & (im <= upper1).all(2)) | ((lower2 <= im).all(2) & (im <= upper2).all(2))\n",
    "    return color_mask(im, mask) if colorized else mask\n",
    "\n",
    "def color_mask(im, mask):\n",
    "    \"\"\"\n",
    "    Takes a color image and a mask and returns a new image that is black outside the mask but colored\n",
    "    in the mask.\n",
    "    \"\"\"\n",
    "    return mask[:, :, None] * im"
   ]
  },
  {
   "cell_type": "markdown",
   "metadata": {},
   "source": [
    "# Color Testing\n",
    "\n",
    "This is for tuning the background and hand colors."
   ]
  },
  {
   "cell_type": "code",
   "execution_count": null,
   "metadata": {},
   "outputs": [],
   "source": [
    "im = run_video(image_in_range, camera_num=0, return_orig=True)"
   ]
  },
  {
   "cell_type": "code",
   "execution_count": null,
   "metadata": {},
   "outputs": [],
   "source": [
    "plt.imshow(im)"
   ]
  },
  {
   "cell_type": "code",
   "execution_count": null,
   "metadata": {},
   "outputs": [],
   "source": [
    "\n",
    "\n",
    "# This cell will help you figure out the lower and upper values to use\n",
    "# After running the video above, interrupt it during a bad frame and then run this cell to adjust the values\n",
    "# The values are adjusted in global variables so you can then re-run the cell above to check it out\n",
    "# fig = plt.figure(figsize=(7, 3))\n",
    "# plt.gray()\n",
    "# fig.canvas.header_visible = False\n",
    "# fig.canvas.footer_visible = False\n",
    "# ax = fig.add_subplot(1, 1, 1)\n",
    "# plot = ax.imshow(image_in_range(im, True))\n",
    "\n",
    "@widgets.interact(\n",
    "    H_lower1=(0, 179), S_lower1=(0, 255), V_lower1=(0, 255),\n",
    "    H_upper1=(0, 179), S_upper1=(0, 255), V_upper1=(0, 255),\n",
    "    H_lower2=(0, 179), S_lower2=(0, 255), V_lower2=(0, 255),\n",
    "    H_upper2=(0, 179), S_upper2=(0, 255), V_upper2=(0, 255),\n",
    ")\n",
    "def display_in_range(H_lower1=lower1[0], S_lower1=lower1[1], V_lower1=lower1[2],\n",
    "                     H_upper1=upper1[0], S_upper1=upper1[1], V_upper1=upper1[2],\n",
    "                     H_lower2=lower2[0], S_lower2=lower2[1], V_lower2=lower2[2],\n",
    "                     H_upper2=upper2[0], S_upper2=upper2[1], V_upper2=upper2[2]):\n",
    "    global lower1, upper1, lower2, upper2\n",
    "    lower1 = np.array([H_lower1, S_lower1, V_lower1], np.uint8)\n",
    "    upper1 = np.array([H_upper1, S_upper1, V_upper1], np.uint8)\n",
    "    lower2 = np.array([H_lower2, S_lower2, V_lower2], np.uint8)\n",
    "    upper2 = np.array([H_upper2, S_upper2, V_upper2], np.uint8)\n",
    "    plt.figure(2)\n",
    "    plt.imshow(image_in_range(im, True), cmap='gray')\n",
    "    plt.show()"
   ]
  },
  {
   "cell_type": "markdown",
   "metadata": {},
   "source": [
    "# Finger Painting"
   ]
  },
  {
   "cell_type": "code",
   "execution_count": 6,
   "metadata": {},
   "outputs": [],
   "source": [
    "# Colors are in RGBA\n",
    "COLORS = {\n",
    "        'clear': (255, 255, 255, 255),\n",
    "        'red': (255, 0, 0, 255),\n",
    "        'green': (0, 255, 0, 255),\n",
    "        'blue': (0, 0, 255, 255),\n",
    "        'yellow': (255, 255, 0, 255),\n",
    "        'cyan': (0, 255, 255, 255),\n",
    "        'magenta': (255, 0, 255, 255)\n",
    "}\n",
    "chosen_color = COLORS['cyan'] # Default color to cyan\n",
    "\n",
    "THICKNESS = 8 # Thickness of circles\n",
    "RADIUS = 3 # Radius of circle\n",
    "\n",
    "DISTANCE_FROM_EDGE = 5 # Distance from edge to exclude from the hull\n",
    "\n",
    "BTN_X_START, BTN_Y_START = 10, 50 # Start and end positions of clear button\n",
    "\n",
    "BUTTONS = {color: slice(10+50*i, 50+50*i) for i, color in enumerate(('clear', 'red', 'green', 'blue', 'yellow', 'cyan', 'magenta'))}"
   ]
  },
  {
   "cell_type": "code",
   "execution_count": 7,
   "metadata": {},
   "outputs": [],
   "source": [
    "def reset_canvas():\n",
    "    \"\"\"\n",
    "    Resets the canvas that holds the points to draw circles on and\n",
    "    adds the color buttons.\n",
    "\n",
    "    Returns:\n",
    "        the canvas numpy array\n",
    "    \"\"\"\n",
    "    canvas = np.zeros((360, 640, 4), 'uint8')\n",
    "    for color, position in BUTTONS.items():\n",
    "        canvas[BTN_X_START:BTN_Y_START, position] = COLORS[color]\n",
    "\n",
    "    cv2.putText(canvas, \"Clear\", (15, 30), cv2.FONT_HERSHEY_SIMPLEX, 0.35, (0, 0, 0));\n",
    "    return canvas\n",
    "canvas = reset_canvas()"
   ]
  },
  {
   "cell_type": "code",
   "execution_count": 8,
   "metadata": {},
   "outputs": [],
   "source": [
    "def centroid(max_contour):\n",
    "    \"\"\"\n",
    "    Find the center of the given contour.\n",
    "\n",
    "    Arguments:\n",
    "        max_contour - an array for the largest contour\n",
    "\n",
    "    Returns:\n",
    "        the x and y of the center point\n",
    "    \"\"\"\n",
    "    moment = cv2.moments(max_contour)\n",
    "    if moment['m00'] != 0:\n",
    "        return int(moment['m10'] / moment['m00']), int(moment['m01'] / moment['m00'])"
   ]
  },
  {
   "cell_type": "code",
   "execution_count": 9,
   "metadata": {},
   "outputs": [],
   "source": [
    "def is_point_near_edge(point, shape, dist):\n",
    "    \"\"\"\n",
    "    Return whether point is within distance from edge.\n",
    "    \"\"\"\n",
    "    return (shape[0] - dist < point[1] or shape[1] - dist < point[0] or \n",
    "            dist > point[1] or dist > point[0])"
   ]
  },
  {
   "cell_type": "code",
   "execution_count": 10,
   "metadata": {},
   "outputs": [],
   "source": [
    "def determine_color(finger_tip):\n",
    "    \"\"\"\n",
    "    Adjusts the drawing color based on finger location.\n",
    "    Clears the canvas if the tip is on the \"clear color.\"\n",
    "\n",
    "    Arguments:\n",
    "        finger_tip - the x and y coordinate of the finger tip\n",
    "    \"\"\"\n",
    "    global canvas, chosen_color\n",
    "    for color, position in BUTTONS.items():\n",
    "        if BTN_X_START < finger_tip[1] < BTN_Y_START and position.start < finger_tip[0] < position.stop:\n",
    "            if color == 'clear':\n",
    "                canvas = reset_canvas()\n",
    "            else:\n",
    "                chosen_color = COLORS[color]"
   ]
  },
  {
   "cell_type": "code",
   "execution_count": 11,
   "metadata": {},
   "outputs": [],
   "source": [
    "def finger_paint(im):\n",
    "    \"\"\"\n",
    "    Finds the largest contour and the center of that contour.\n",
    "    Then finds the convex hull and removes points near the edge from the hull.\n",
    "    Finds the furthest point away from the center of the contour (the fingertip).\n",
    "    Then checks what color to draw on the canvas and draws a circle at that point (or clears the canvas).\n",
    "    Finally, adds the canvas to the image for a \"painted\" image.\n",
    "\n",
    "    Arguments:\n",
    "        im - an image\n",
    "\n",
    "    Returns:\n",
    "        The altered \"painted\" image\n",
    "    \"\"\"\n",
    "    try:\n",
    "        intial_segmentation = image_in_range(im, False)\n",
    "        contours, _ = cv2.findContours(intial_segmentation.view('uint8'), cv2.RETR_EXTERNAL, cv2.CHAIN_APPROX_SIMPLE)\n",
    "        largest_contour = max(contours, key=cv2.contourArea)\n",
    "        center_point = centroid(largest_contour)\n",
    "        if center_point is not None:\n",
    "            # cv2.drawMarker(im, center_point, (255,0,0)) # for testing\n",
    "            hull = cv2.convexHull(largest_contour).squeeze()\n",
    "\n",
    "            # remove points from hull within x pixels of edges\n",
    "            hull = np.array([point for point in hull if not is_point_near_edge(point, im.shape, DISTANCE_FROM_EDGE)])\n",
    "            # cv2.drawContours(im, [hull], -1, (0, 0, 255), 2) # for testing\n",
    "\n",
    "            finger_tip_point = hull[np.argmax(np.linalg.norm(hull-center_point, axis=1))]\n",
    "            determine_color(finger_tip_point)\n",
    "\n",
    "            # Draw the circle on the canvas\n",
    "            cv2.circle(canvas, finger_tip_point, RADIUS, chosen_color, THICKNESS)\n",
    "\n",
    "    except (cv2.error, ValueError, AttributeError, IndexError) as error:\n",
    "        pass\n",
    "\n",
    "    return (im + canvas[:, :, :3] * (canvas[:, :, 3:] / 255)).clip(0, 255).astype('uint8')\n"
   ]
  },
  {
   "cell_type": "code",
   "execution_count": 12,
   "metadata": {},
   "outputs": [
    {
     "name": "stderr",
     "output_type": "stream",
     "text": [
      "OpenCV: out device of bound (0-0): 1\n",
      "OpenCV: camera failed to properly initialize!\n"
     ]
    }
   ],
   "source": [
    "canvas = reset_canvas()\n",
    "im = run_video(finger_paint, camera_num=1, return_orig=True)"
   ]
  },
  {
   "cell_type": "code",
   "execution_count": 13,
   "metadata": {},
   "outputs": [],
   "source": [
    "# This works, but closing it and forcing it to quit kills the jupyter kernel\n",
    "canvas = reset_canvas()\n",
    "im = run_video_2(finger_paint, camera_num=0, return_orig=True)"
   ]
  },
  {
   "cell_type": "code",
   "execution_count": null,
   "metadata": {},
   "outputs": [],
   "source": []
  }
 ],
 "metadata": {
  "interpreter": {
   "hash": "aee8b7b246df8f9039afb4144a1f6fd8d2ca17a180786b69acc140d282b71a49"
  },
  "kernelspec": {
   "display_name": "Python 3.9.9 64-bit",
   "language": "python",
   "name": "python3"
  },
  "language_info": {
   "codemirror_mode": {
    "name": "ipython",
    "version": 3
   },
   "file_extension": ".py",
   "mimetype": "text/x-python",
   "name": "python",
   "nbconvert_exporter": "python",
   "pygments_lexer": "ipython3",
   "version": "3.9.9"
  },
  "orig_nbformat": 4
 },
 "nbformat": 4,
 "nbformat_minor": 2
}
